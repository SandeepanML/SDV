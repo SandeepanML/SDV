{
 "cells": [
  {
   "cell_type": "markdown",
   "id": "6a264a3f-a1da-4410-852e-b8e8d8008f95",
   "metadata": {},
   "source": [
    "## Synthesizing Data for one Table"
   ]
  },
  {
   "cell_type": "code",
   "execution_count": 17,
   "id": "e11d0196-fde7-4f4f-9709-45e72e1d0654",
   "metadata": {},
   "outputs": [],
   "source": [
    "import pandas as pd\n",
    "from sdv.single_table import CTGANSynthesizer\n",
    "from sdv.metadata import SingleTableMetadata\n",
    "from sdv.evaluation.single_table import run_diagnostic, evaluate_quality, get_column_plot, QualityReport\n",
    "from sdv.sampling import Condition"
   ]
  },
  {
   "cell_type": "markdown",
   "id": "b1e8dba0-e5f6-4e21-8fd8-cd1e26e6f4af",
   "metadata": {},
   "source": [
    "### **Sample Table with 5 Columns 10 Rows**"
   ]
  },
  {
   "cell_type": "code",
   "execution_count": 3,
   "id": "54f8a6dc-9038-4bd0-bc64-7f93d6e912ff",
   "metadata": {},
   "outputs": [
    {
     "data": {
      "text/html": [
       "<div>\n",
       "<style scoped>\n",
       "    .dataframe tbody tr th:only-of-type {\n",
       "        vertical-align: middle;\n",
       "    }\n",
       "\n",
       "    .dataframe tbody tr th {\n",
       "        vertical-align: top;\n",
       "    }\n",
       "\n",
       "    .dataframe thead th {\n",
       "        text-align: right;\n",
       "    }\n",
       "</style>\n",
       "<table border=\"1\" class=\"dataframe\">\n",
       "  <thead>\n",
       "    <tr style=\"text-align: right;\">\n",
       "      <th></th>\n",
       "      <th>ID</th>\n",
       "      <th>Category_1</th>\n",
       "      <th>Category_2</th>\n",
       "      <th>Age</th>\n",
       "      <th>Apparel_Sales</th>\n",
       "      <th>Electronics_Goods_Sales</th>\n",
       "    </tr>\n",
       "  </thead>\n",
       "  <tbody>\n",
       "    <tr>\n",
       "      <th>0</th>\n",
       "      <td>1</td>\n",
       "      <td>Category A</td>\n",
       "      <td>Type X</td>\n",
       "      <td>40</td>\n",
       "      <td>66.640350</td>\n",
       "      <td>41.849214</td>\n",
       "    </tr>\n",
       "    <tr>\n",
       "      <th>1</th>\n",
       "      <td>2</td>\n",
       "      <td>Category B</td>\n",
       "      <td>Type Z</td>\n",
       "      <td>57</td>\n",
       "      <td>62.349246</td>\n",
       "      <td>68.389856</td>\n",
       "    </tr>\n",
       "    <tr>\n",
       "      <th>2</th>\n",
       "      <td>3</td>\n",
       "      <td>Category B</td>\n",
       "      <td>Type X</td>\n",
       "      <td>97</td>\n",
       "      <td>5.710185</td>\n",
       "      <td>75.532637</td>\n",
       "    </tr>\n",
       "    <tr>\n",
       "      <th>3</th>\n",
       "      <td>4</td>\n",
       "      <td>Category A</td>\n",
       "      <td>Type Z</td>\n",
       "      <td>39</td>\n",
       "      <td>20.161883</td>\n",
       "      <td>51.181728</td>\n",
       "    </tr>\n",
       "    <tr>\n",
       "      <th>4</th>\n",
       "      <td>5</td>\n",
       "      <td>Category A</td>\n",
       "      <td>Type Z</td>\n",
       "      <td>78</td>\n",
       "      <td>85.208133</td>\n",
       "      <td>46.665949</td>\n",
       "    </tr>\n",
       "    <tr>\n",
       "      <th>5</th>\n",
       "      <td>6</td>\n",
       "      <td>Category B</td>\n",
       "      <td>Type Y</td>\n",
       "      <td>41</td>\n",
       "      <td>14.189560</td>\n",
       "      <td>61.307478</td>\n",
       "    </tr>\n",
       "    <tr>\n",
       "      <th>6</th>\n",
       "      <td>7</td>\n",
       "      <td>Category A</td>\n",
       "      <td>Type Y</td>\n",
       "      <td>49</td>\n",
       "      <td>20.413878</td>\n",
       "      <td>66.459694</td>\n",
       "    </tr>\n",
       "    <tr>\n",
       "      <th>7</th>\n",
       "      <td>8</td>\n",
       "      <td>Category B</td>\n",
       "      <td>Type Y</td>\n",
       "      <td>31</td>\n",
       "      <td>23.868608</td>\n",
       "      <td>38.556675</td>\n",
       "    </tr>\n",
       "    <tr>\n",
       "      <th>8</th>\n",
       "      <td>9</td>\n",
       "      <td>Category A</td>\n",
       "      <td>Type X</td>\n",
       "      <td>86</td>\n",
       "      <td>58.094261</td>\n",
       "      <td>45.611471</td>\n",
       "    </tr>\n",
       "    <tr>\n",
       "      <th>9</th>\n",
       "      <td>10</td>\n",
       "      <td>Category A</td>\n",
       "      <td>Type Y</td>\n",
       "      <td>38</td>\n",
       "      <td>57.184065</td>\n",
       "      <td>39.790349</td>\n",
       "    </tr>\n",
       "  </tbody>\n",
       "</table>\n",
       "</div>"
      ],
      "text/plain": [
       "   ID  Category_1 Category_2  Age  Apparel_Sales  Electronics_Goods_Sales\n",
       "0   1  Category A     Type X   40      66.640350                41.849214\n",
       "1   2  Category B     Type Z   57      62.349246                68.389856\n",
       "2   3  Category B     Type X   97       5.710185                75.532637\n",
       "3   4  Category A     Type Z   39      20.161883                51.181728\n",
       "4   5  Category A     Type Z   78      85.208133                46.665949\n",
       "5   6  Category B     Type Y   41      14.189560                61.307478\n",
       "6   7  Category A     Type Y   49      20.413878                66.459694\n",
       "7   8  Category B     Type Y   31      23.868608                38.556675\n",
       "8   9  Category A     Type X   86      58.094261                45.611471\n",
       "9  10  Category A     Type Y   38      57.184065                39.790349"
      ]
     },
     "execution_count": 3,
     "metadata": {},
     "output_type": "execute_result"
    }
   ],
   "source": [
    "import pandas as pd\n",
    "import numpy as np\n",
    "\n",
    "categories_1 = ['Category A', 'Category B']\n",
    "categories_2 = ['Type X', 'Type Y', 'Type Z']\n",
    "\n",
    "data = {\n",
    "    'Category_1': np.random.choice(categories_1, 10),\n",
    "    'Category_2': np.random.choice(categories_2, 10),\n",
    "    'Numerical_1': np.random.randint(10, 100, 10),\n",
    "    'Numerical_2': np.random.rand(10) * 100,\n",
    "    'Numerical_3': np.random.normal(50, 15, 10)\n",
    "}\n",
    "\n",
    "df = pd.DataFrame(data)\n",
    "\n",
    "df.insert(0, 'ID', range(1, 11))\n",
    "\n",
    "df.rename(columns={\n",
    "    'Numerical_1': 'Age',\n",
    "    'Numerical_2': 'Apparel_Sales',\n",
    "    'Numerical_3': 'Electronics_Goods_Sales'\n",
    "}, inplace=True)\n",
    "\n",
    "df"
   ]
  },
  {
   "cell_type": "code",
   "execution_count": 4,
   "id": "1ee6ace4-728e-4465-b5ba-2529ff784595",
   "metadata": {},
   "outputs": [
    {
     "name": "stdout",
     "output_type": "stream",
     "text": [
      "{'primary_key': 'ID', 'columns': {'ID': {'sdtype': 'id'}, 'Category_1': {'sdtype': 'categorical'}, 'Category_2': {'sdtype': 'categorical'}, 'Age': {'sdtype': 'numerical'}, 'Apparel_Sales': {'sdtype': 'numerical'}, 'Electronics_Goods_Sales': {'sdtype': 'numerical'}}, 'METADATA_SPEC_VERSION': 'SINGLE_TABLE_V1'}\n"
     ]
    }
   ],
   "source": [
    "from sdv.metadata import SingleTableMetadata\n",
    "\n",
    "metadata = SingleTableMetadata()\n",
    "metadata.detect_from_dataframe(data=df)\n",
    "\n",
    "metadata.update_column(column_name='Age', sdtype='numerical')\n",
    "metadata.update_column(column_name='Apparel_Sales', sdtype='numerical')\n",
    "metadata.update_column(column_name='Electronics_Goods_Sales', sdtype='numerical')\n",
    "metadata.update_column(column_name='Category_1', sdtype='categorical')\n",
    "metadata.update_column(column_name='Category_2', sdtype='categorical')\n",
    "\n",
    "print(metadata.to_dict())"
   ]
  },
  {
   "cell_type": "code",
   "execution_count": 5,
   "id": "6c651d84-4406-4a4d-89cf-f3018f5fd6a6",
   "metadata": {},
   "outputs": [
    {
     "name": "stderr",
     "output_type": "stream",
     "text": [
      "C:\\Users\\write\\miniconda3\\envs\\tf_tr\\lib\\site-packages\\sdv\\single_table\\base.py:86: UserWarning: We strongly recommend saving the metadata using 'save_to_json' for replicability in future SDV versions.\n",
      "  warnings.warn(\n"
     ]
    }
   ],
   "source": [
    "synthesizer = GaussianCopulaSynthesizer(metadata)"
   ]
  },
  {
   "cell_type": "code",
   "execution_count": 6,
   "id": "94b17503-5fb1-43e7-9d54-207a5ed4acb0",
   "metadata": {},
   "outputs": [],
   "source": [
    "synthesizer.fit(df)"
   ]
  },
  {
   "cell_type": "code",
   "execution_count": 7,
   "id": "c54b782d-81a0-45ef-acef-a427d34b5bc2",
   "metadata": {},
   "outputs": [],
   "source": [
    "synthetic_data = synthesizer.sample(num_rows=100)"
   ]
  },
  {
   "cell_type": "code",
   "execution_count": 9,
   "id": "3ddeac59-dd3e-4335-9cf2-5d4a477cd772",
   "metadata": {},
   "outputs": [
    {
     "data": {
      "text/plain": [
       "(100, 6)"
      ]
     },
     "execution_count": 9,
     "metadata": {},
     "output_type": "execute_result"
    }
   ],
   "source": [
    "synthetic_data.shape"
   ]
  },
  {
   "cell_type": "code",
   "execution_count": 12,
   "id": "75552bbb-ba18-4d8f-9b21-33c3ff06dac5",
   "metadata": {},
   "outputs": [
    {
     "name": "stdout",
     "output_type": "stream",
     "text": [
      "Generating report ...\n",
      "\n",
      "(1/2) Evaluating Data Validity: |██████████████████████████████████████████████████████| 6/6 [00:00<00:00, 519.55it/s]|\n",
      "Data Validity Score: 100.0%\n",
      "\n",
      "(2/2) Evaluating Data Structure: |█████████████████████████████████████████████████████| 1/1 [00:00<00:00, 118.66it/s]|\n",
      "Data Structure Score: 100.0%\n",
      "\n",
      "Overall Score (Average): 100.0%\n",
      "\n"
     ]
    }
   ],
   "source": [
    "diagnostic_report = run_diagnostic(real_data=df, \n",
    "                                   synthetic_data=synthetic_data, \n",
    "                                   metadata=metadata)"
   ]
  },
  {
   "cell_type": "code",
   "execution_count": 13,
   "id": "b57f336b-1680-4aff-8e43-521cf61a10cf",
   "metadata": {},
   "outputs": [
    {
     "data": {
      "text/html": [
       "<iframe\n",
       "    scrolling=\"no\"\n",
       "    width=\"100%\"\n",
       "    height=\"545px\"\n",
       "    src=\"iframe_figures/figure_13.html\"\n",
       "    frameborder=\"0\"\n",
       "    allowfullscreen\n",
       "></iframe>\n"
      ]
     },
     "metadata": {},
     "output_type": "display_data"
    }
   ],
   "source": [
    "column_name = 'Electronics_Goods_Sales'\n",
    "if column_name in metadata.columns:\n",
    "    fig = get_column_plot(real_data=df, synthetic_data=synthetic_data, metadata=metadata, column_name=column_name)\n",
    "    fig.show()\n",
    "else:\n",
    "    print(f\"Column '{column_name}' not found in the metadata.\")"
   ]
  },
  {
   "cell_type": "code",
   "execution_count": 14,
   "id": "da00cd7f-04e4-42ec-8c44-c2c9fec51182",
   "metadata": {},
   "outputs": [
    {
     "data": {
      "text/html": [
       "<iframe\n",
       "    scrolling=\"no\"\n",
       "    width=\"100%\"\n",
       "    height=\"545px\"\n",
       "    src=\"iframe_figures/figure_14.html\"\n",
       "    frameborder=\"0\"\n",
       "    allowfullscreen\n",
       "></iframe>\n"
      ]
     },
     "metadata": {},
     "output_type": "display_data"
    }
   ],
   "source": [
    "column_name = 'Age'\n",
    "if column_name in metadata.columns:\n",
    "    fig = get_column_plot(real_data=df, synthetic_data=synthetic_data, metadata=metadata, column_name=column_name)\n",
    "    fig.show()\n",
    "else:\n",
    "    print(f\"Column '{column_name}' not found in the metadata.\")"
   ]
  },
  {
   "cell_type": "code",
   "execution_count": 15,
   "id": "14d0c8c6-029e-4664-8970-c30df6f76c3c",
   "metadata": {},
   "outputs": [],
   "source": [
    "metadata_dict = metadata.to_dict()"
   ]
  },
  {
   "cell_type": "code",
   "execution_count": 18,
   "id": "41a06a0a-6cae-4476-a686-c13e92a40a5d",
   "metadata": {},
   "outputs": [
    {
     "name": "stdout",
     "output_type": "stream",
     "text": [
      "Generating report ...\n",
      "\n",
      "(1/2) Evaluating Column Shapes: |██████████████████████████████████████████████████████| 6/6 [00:00<00:00, 592.22it/s]|\n",
      "Column Shapes Score: 84.6%\n",
      "\n",
      "(2/2) Evaluating Column Pair Trends: |███████████████████████████████████████████████| 15/15 [00:00<00:00, 138.77it/s]|\n",
      "Column Pair Trends Score: 53.39%\n",
      "\n",
      "Overall Score (Average): 68.99%\n",
      "\n"
     ]
    }
   ],
   "source": [
    "report = QualityReport()\n",
    "report.generate(real_data=df, synthetic_data=synthetic_data, metadata=metadata_dict)"
   ]
  },
  {
   "cell_type": "code",
   "execution_count": 19,
   "id": "4024a014-8add-45ff-837a-7fb46dc34adc",
   "metadata": {},
   "outputs": [
    {
     "name": "stdout",
     "output_type": "stream",
     "text": [
      "Synthetic Data:\n",
      "           ID  Category_1 Category_2  Age  Apparel_Sales  \\\n",
      "0   773153107  Category B     Type Y   38      21.555952   \n",
      "1   295010557  Category B     Type Z   77      52.604986   \n",
      "2   475410988  Category B     Type Y   38       6.290133   \n",
      "3   421328571  Category A     Type Z   59      32.938631   \n",
      "4   646285693  Category A     Type Y   94      79.781897   \n",
      "..        ...         ...        ...  ...            ...   \n",
      "95  192569005  Category A     Type Y   57      17.248572   \n",
      "96  960388574  Category A     Type Y   92      70.650213   \n",
      "97  685786765  Category A     Type X   61      63.587531   \n",
      "98  413990076  Category A     Type Z   38      33.348042   \n",
      "99  461969586  Category A     Type Z   38      67.881579   \n",
      "\n",
      "    Electronics_Goods_Sales  \n",
      "0                 38.791689  \n",
      "1                 69.070041  \n",
      "2                 47.419499  \n",
      "3                 48.266162  \n",
      "4                 59.649302  \n",
      "..                      ...  \n",
      "95                74.725519  \n",
      "96                74.125220  \n",
      "97                45.271126  \n",
      "98                39.007380  \n",
      "99                38.573732  \n",
      "\n",
      "[100 rows x 6 columns]\n",
      "\n",
      "Quality Score:\n",
      "0.6899465245389561\n"
     ]
    }
   ],
   "source": [
    "print(\"Synthetic Data:\")\n",
    "print(synthetic_data)\n",
    "print(\"\\nQuality Score:\")\n",
    "print(report.get_score())"
   ]
  },
  {
   "cell_type": "markdown",
   "id": "760d2e60-b0fe-49ae-92c4-b0f5b5f4dcf8",
   "metadata": {},
   "source": [
    "## Synthesizing Data for Two Tables which are Related to Each Other"
   ]
  },
  {
   "cell_type": "code",
   "execution_count": 49,
   "id": "c4b0f4d0-7f1e-40f4-9ddd-1f363c4fa540",
   "metadata": {},
   "outputs": [
    {
     "name": "stdout",
     "output_type": "stream",
     "text": [
      "   Category_1  Number_of_Items  Is_Present_in_Warehouse\n",
      "0  Category A               64                    False\n",
      "1  Category B               29                    False\n",
      "2  Category C               95                     True\n",
      "3  Category D               75                     True\n",
      "4  Category E               94                    False\n",
      "5  Category F               21                     True\n",
      "6  Category G               12                     True\n",
      "7  Category H               54                     True\n",
      "8  Category I                2                    False\n",
      "9  Category J               67                     True\n",
      "{\n",
      "    \"primary_key\": \"Category_1\",\n",
      "    \"columns\": {\n",
      "        \"Category_1\": {\n",
      "            \"sdtype\": \"id\"\n",
      "        },\n",
      "        \"Number_of_Items\": {\n",
      "            \"sdtype\": \"numerical\"\n",
      "        },\n",
      "        \"Is_Present_in_Warehouse\": {\n",
      "            \"sdtype\": \"boolean\"\n",
      "        }\n",
      "    },\n",
      "    \"METADATA_SPEC_VERSION\": \"SINGLE_TABLE_V1\"\n",
      "}\n"
     ]
    },
    {
     "name": "stderr",
     "output_type": "stream",
     "text": [
      "C:\\Users\\write\\miniconda3\\envs\\tf_tr\\lib\\site-packages\\sdv\\metadata\\single_table.py:673: UserWarning:\n",
      "\n",
      "There is an existing primary key 'Category_1'. This key will be removed.\n",
      "\n",
      "C:\\Users\\write\\miniconda3\\envs\\tf_tr\\lib\\site-packages\\sdv\\single_table\\base.py:86: UserWarning:\n",
      "\n",
      "We strongly recommend saving the metadata using 'save_to_json' for replicability in future SDV versions.\n",
      "\n"
     ]
    },
    {
     "name": "stdout",
     "output_type": "stream",
     "text": [
      "       Category_1  Number_of_Items  Is_Present_in_Warehouse\n",
      "0   sdv-id-PQzGJB               64                     True\n",
      "1   sdv-id-EPOaTD               73                     True\n",
      "2   sdv-id-ITzRka               62                     True\n",
      "3   sdv-id-yvKnPw               39                     True\n",
      "4   sdv-id-uTKDmB               22                     True\n",
      "..            ...              ...                      ...\n",
      "95  sdv-id-HURgXY               93                    False\n",
      "96  sdv-id-IMTGhp               22                    False\n",
      "97  sdv-id-kEdUyK               61                    False\n",
      "98  sdv-id-NbRDbA               78                    False\n",
      "99  sdv-id-gJdUOd               14                    False\n",
      "\n",
      "[100 rows x 3 columns]\n"
     ]
    }
   ],
   "source": [
    "import numpy as np\n",
    "import pandas as pd\n",
    "from sdv.metadata import SingleTableMetadata\n",
    "from sdv.single_table import GaussianCopulaSynthesizer  \n",
    "\n",
    "unique_category_1 = ['Category A', 'Category B', 'Category C', 'Category D', \n",
    "                     'Category E', 'Category F', 'Category G', 'Category H', \n",
    "                     'Category I', 'Category J']\n",
    "\n",
    "data_category_1 = {\n",
    "    'Category_1': unique_category_1,\n",
    "    'Number_of_Items': np.random.randint(1, 100, 10),\n",
    "    'Is_Present_in_Warehouse': np.random.choice([0, 1], 10)  # Binary values: 0 (No) or 1 (Yes)\n",
    "}\n",
    "\n",
    "df_category_1 = pd.DataFrame(data_category_1)\n",
    "\n",
    "df_category_1['Is_Present_in_Warehouse'] = df_category_1['Is_Present_in_Warehouse'].astype(bool)\n",
    "\n",
    "print(df_category_1)\n",
    "\n",
    "metadata_category_1 = SingleTableMetadata()\n",
    "metadata_category_1.detect_from_dataframe(data=df_category_1)\n",
    "\n",
    "metadata_category_1.update_column(column_name='Number_of_Items', sdtype='numerical')\n",
    "metadata_category_1.update_column(column_name='Is_Present_in_Warehouse', sdtype='boolean')\n",
    "\n",
    "metadata_category_1.set_primary_key('Category_1')\n",
    "\n",
    "synthesizer = GaussianCopulaSynthesizer(metadata_category_1)\n",
    "\n",
    "print(metadata_category_1)\n",
    "\n",
    "synthesizer.fit(df_category_1)\n",
    "\n",
    "synthetic_data_category_1 = synthesizer.sample(100)\n",
    "print(synthetic_data_category_1)\n"
   ]
  },
  {
   "cell_type": "code",
   "execution_count": null,
   "id": "97e3e3df-4637-46c6-9fdb-6617392ab122",
   "metadata": {},
   "outputs": [],
   "source": []
  },
  {
   "cell_type": "code",
   "execution_count": null,
   "id": "e12d6763-8966-456f-acba-e9ed2e80506c",
   "metadata": {},
   "outputs": [],
   "source": []
  },
  {
   "cell_type": "code",
   "execution_count": null,
   "id": "3bc2db1d-1f54-42b5-ac72-0c539427b507",
   "metadata": {},
   "outputs": [],
   "source": []
  }
 ],
 "metadata": {
  "kernelspec": {
   "display_name": "Python 3 (ipykernel)",
   "language": "python",
   "name": "python3"
  },
  "language_info": {
   "codemirror_mode": {
    "name": "ipython",
    "version": 3
   },
   "file_extension": ".py",
   "mimetype": "text/x-python",
   "name": "python",
   "nbconvert_exporter": "python",
   "pygments_lexer": "ipython3",
   "version": "3.8.19"
  }
 },
 "nbformat": 4,
 "nbformat_minor": 5
}
